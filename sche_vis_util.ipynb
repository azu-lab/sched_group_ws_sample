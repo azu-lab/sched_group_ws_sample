{
 "cells": [
  {
   "cell_type": "code",
   "execution_count": 1,
   "metadata": {},
   "outputs": [
    {
     "name": "stdout",
     "output_type": "stream",
     "text": [
      "./output/test0.json\n"
     ]
    }
   ],
   "source": [
    "# 2. Utility of Scheduling_Visualization\n",
    "# https://github.com/atsushi421/Scheduling_Visualization\n",
    "\n",
    "# 2. 1. Generate visualizing target\n",
    "from src.sche_vis_util import ScheVisObj, SchedulingVisualizerUtil\n",
    "\n",
    "tasks :list[ScheVisObj] = [\n",
    "    ScheVisObj(task_idx=0, start_time=0, finish_time=3, core_idx=0),\n",
    "    ScheVisObj(task_idx=1, start_time=0, finish_time=4, core_idx=1),\n",
    "    ScheVisObj(task_idx=2, start_time=3, finish_time=10, core_idx=0),\n",
    "    ScheVisObj(task_idx=3, start_time=6, finish_time=12, core_idx=1)\n",
    "                           ]\n",
    "\n",
    "# make ./output directory\n",
    "\n",
    "output_file = SchedulingVisualizerUtil.save(tasks, filename='test0')\n",
    "print(output_file)\n",
    "\n",
    "# python3 [Scheduling_Visualization]/gannt_chart.py -s [output_file] -d ./output/  -y 'core'"
   ]
  },
  {
   "cell_type": "code",
   "execution_count": 2,
   "metadata": {},
   "outputs": [
    {
     "name": "stdout",
     "output_type": "stream",
     "text": [
      "./output/test1.json\n"
     ]
    }
   ],
   "source": [
    "# 2. 2. visualize from array\n",
    "from src.sche_vis_util import SchedulingVisualizerUtil\n",
    "\n",
    "# make ./output directory\n",
    "\n",
    "output_file = SchedulingVisualizerUtil.save_from_array(\n",
    "    task_idxs=[0, 1, 2, 3],\n",
    "    start_times=[0, 0, 3, 6],\n",
    "    finish_times=[3, 4, 10, 12],\n",
    "    core_idxs=[0, 1, 0, 1],\n",
    "    filename='test1')\n",
    "print(output_file)\n",
    "\n",
    "# python3 [Scheduling_Visualization]/gannt_chart.py -s [output_file] -d ./output/  -y 'core'"
   ]
  }
 ],
 "metadata": {
  "kernelspec": {
   "display_name": "Python 3",
   "language": "python",
   "name": "python3"
  },
  "language_info": {
   "codemirror_mode": {
    "name": "ipython",
    "version": 3
   },
   "file_extension": ".py",
   "mimetype": "text/x-python",
   "name": "python",
   "nbconvert_exporter": "python",
   "pygments_lexer": "ipython3",
   "version": "3.10.11"
  }
 },
 "nbformat": 4,
 "nbformat_minor": 2
}
