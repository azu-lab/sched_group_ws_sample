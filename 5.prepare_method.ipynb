{
 "cells": [
  {
   "cell_type": "code",
   "execution_count": 1,
   "metadata": {},
   "outputs": [],
   "source": [
    "# 5. prepare to existing method\n",
    "# 5. 1. load RD-Gen from directory\n",
    "\n",
    "from src.dag_rd_gen import RDG_DAG\n",
    "\n",
    "dags: list[RDG_DAG] = RDG_DAG.load_from_rd_gen_dir('./sample_input')\n",
    "# print([d.filepath for d in dags])"
   ]
  },
  {
   "cell_type": "code",
   "execution_count": 2,
   "metadata": {},
   "outputs": [
    {
     "name": "stdout",
     "output_type": "stream",
     "text": [
      "20 / 20 : 100%\n",
      "[{'dag': <src.dag_rd_gen.RDG_DAG object at 0x000002A0E250D630>, 'optional': (285, 200)}, {'dag': <src.dag_rd_gen.RDG_DAG object at 0x000002A0E1C84D90>, 'optional': (256, 200)}, {'dag': <src.dag_rd_gen.RDG_DAG object at 0x000002A0E1C84DC0>, 'optional': (280, 200)}, {'dag': <src.dag_rd_gen.RDG_DAG object at 0x000002A0E25A81F0>, 'optional': (237, 200)}, {'dag': <src.dag_rd_gen.RDG_DAG object at 0x000002A0E25A85B0>, 'optional': (223, 200)}, {'dag': <src.dag_rd_gen.RDG_DAG object at 0x000002A0E250D7E0>, 'optional': (214, 200)}, {'dag': <src.dag_rd_gen.RDG_DAG object at 0x000002A0E25A8520>, 'optional': (206, 200)}, {'dag': <src.dag_rd_gen.RDG_DAG object at 0x000002A0E248E3B0>, 'optional': (242, 200)}]\n"
     ]
    }
   ],
   "source": [
    "# 5. 2. prepare to existing method\n",
    "# losing or not to existing methods is defined as src.simulate.prepare_method function\n",
    "# if \"propose method loosing\", src.simulate.prepare_method return True\n",
    "\n",
    "from src.simulate import prepare_method_taskset\n",
    "\n",
    "results = prepare_method_taskset(dags)\n",
    "print(results)"
   ]
  }
 ],
 "metadata": {
  "kernelspec": {
   "display_name": "Python 3",
   "language": "python",
   "name": "python3"
  },
  "language_info": {
   "codemirror_mode": {
    "name": "ipython",
    "version": 3
   },
   "file_extension": ".py",
   "mimetype": "text/x-python",
   "name": "python",
   "nbconvert_exporter": "python",
   "pygments_lexer": "ipython3",
   "version": "3.10.11"
  }
 },
 "nbformat": 4,
 "nbformat_minor": 2
}
