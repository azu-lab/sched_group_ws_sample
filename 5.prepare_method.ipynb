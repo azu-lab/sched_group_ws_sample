{
 "cells": [
  {
   "cell_type": "markdown",
   "metadata": {},
   "source": [
    "# 5. prepare to existing method (appendix)\n",
    "not refactored\n",
    "# 5. 1. load RD-Gen from directory"
   ]
  },
  {
   "cell_type": "code",
   "execution_count": 1,
   "metadata": {},
   "outputs": [],
   "source": [
    "from src.dag_rd_gen import RDG_DAG\n",
    "\n",
    "dags: list[RDG_DAG] = RDG_DAG.load_from_rd_gen_dir('./sample_input')\n",
    "# print([d.filepath for d in dags])"
   ]
  },
  {
   "cell_type": "markdown",
   "metadata": {},
   "source": [
    "# 5. 2. prepare to existing method\n",
    "losing or not to existing methods is defined as src.simulate.prepare_method function\n",
    "\n",
    "if \"propose method loosing\", src.simulate.prepare_method return True"
   ]
  },
  {
   "cell_type": "code",
   "execution_count": 2,
   "metadata": {},
   "outputs": [
    {
     "name": "stdout",
     "output_type": "stream",
     "text": [
      "20 / 20 : 100%\n",
      "[{'idx': 7, 'dag': <src.dag_rd_gen.RDG_DAG object at 0x000001D9F3B800A0>, 'optional': (285, 200)}, {'idx': 8, 'dag': <src.dag_rd_gen.RDG_DAG object at 0x000001D9F3B646A0>, 'optional': (256, 200)}, {'idx': 9, 'dag': <src.dag_rd_gen.RDG_DAG object at 0x000001D9F3AC87C0>, 'optional': (280, 200)}, {'idx': 10, 'dag': <src.dag_rd_gen.RDG_DAG object at 0x000001D9F3B80670>, 'optional': (237, 200)}, {'idx': 13, 'dag': <src.dag_rd_gen.RDG_DAG object at 0x000001D9F3AC8E80>, 'optional': (223, 200)}, {'idx': 15, 'dag': <src.dag_rd_gen.RDG_DAG object at 0x000001D9F3B80C70>, 'optional': (214, 200)}, {'idx': 18, 'dag': <src.dag_rd_gen.RDG_DAG object at 0x000001D9F3AC9A50>, 'optional': (206, 200)}, {'idx': 19, 'dag': <src.dag_rd_gen.RDG_DAG object at 0x000001D9F3B80D30>, 'optional': (242, 200)}]\n"
     ]
    }
   ],
   "source": [
    "from src.simulate import prepare_method_taskset\n",
    "\n",
    "results = prepare_method_taskset(dags)\n",
    "print(results)"
   ]
  }
 ],
 "metadata": {
  "kernelspec": {
   "display_name": "Python 3",
   "language": "python",
   "name": "python3"
  },
  "language_info": {
   "codemirror_mode": {
    "name": "ipython",
    "version": 3
   },
   "file_extension": ".py",
   "mimetype": "text/x-python",
   "name": "python",
   "nbconvert_exporter": "python",
   "pygments_lexer": "ipython3",
   "version": "3.10.11"
  }
 },
 "nbformat": 4,
 "nbformat_minor": 2
}
